{
 "cells": [
  {
   "cell_type": "code",
   "execution_count": null,
   "id": "36058cd1-a8a7-4683-aed5-148bd01d2834",
   "metadata": {},
   "outputs": [],
   "source": [
    "##Calucla las emisiones semanales que produce un vehículo segundo los kilómetros, días laborables y semanas introducidas"
   ]
  },
  {
   "cell_type": "code",
   "execution_count": null,
   "id": "2e036c1a-26ff-47ee-9e95-8bd321885643",
   "metadata": {},
   "outputs": [],
   "source": [
    "#Calucla las emisiones semanales que produce un vehículo segundo los kilómetros, días laborables y semanas introducidas"
   ]
  },
  {
   "cell_type": "code",
   "execution_count": 12,
   "id": "194d26e8-e721-4397-844a-13786756508d",
   "metadata": {},
   "outputs": [
    {
     "name": "stdout",
     "output_type": "stream",
     "text": [
      "O teu consumo é: 149410.8 gC02,\n",
      "si fuera en bus sería: 2058.0 gC02, ahorrarías => 147352.8 gC02\n",
      "si fueras en tren sería: 205.8 gC02, ahorrarías => 149205.0 gC02\n"
     ]
    }
   ],
   "source": [
    "#!/usr/bin/env python\n",
    "\n",
    "# Cálculo de emisións\n",
    "\n",
    "# Variables\n",
    "EMISION_X_KM_AUTOBUS = 100\n",
    "EMISION_X_KM_TREN = 150\n",
    "\n",
    "def getEmisiones(KMS_DIARIOS, DIAS_LABORAIS_SEMANAIS, SEMANAS, EMISION_X_KM = 121, PERSONAS = 1):\n",
    "    cantidade_de_emisions = KMS_DIARIOS * DIAS_LABORAIS_SEMANAIS * SEMANAS * EMISION_X_KM\n",
    "    return cantidade_de_emisions/PERSONAS\n",
    "\n",
    "#Se han usado medias muy infladas pero para tener una idea vale\n",
    "def main():\n",
    "    mis_emisiones = getEmisiones(10.29, 5, 24)\n",
    "    bus_emisiones = getEmisiones(10.29, 5, 24, EMISION_X_KM_AUTOBUS, 60)\n",
    "    tren_emisiones = getEmisiones(10.29, 5, 24, EMISION_X_KM_AUTOBUS, 600)\n",
    "    print(f\"O teu consumo é: {mis_emisiones} gC02,\\n\" \n",
    "        + f\"si fuera en bus sería: {bus_emisiones} gC02, ahorrarías => {mis_emisiones - bus_emisiones} gC02\\n\"\n",
    "        + f\"si fueras en tren sería: {tren_emisiones} gC02, ahorrarías => {mis_emisiones - tren_emisiones} gC02\")\n",
    "\n",
    "if __name__ == \"__main__\":\n",
    "    main()\n",
    "    \n"
   ]
  },
  {
   "cell_type": "code",
   "execution_count": null,
   "id": "bc1f4a6d-a3e0-47c4-bad8-8472aa3d87b1",
   "metadata": {},
   "outputs": [],
   "source": []
  }
 ],
 "metadata": {
  "kernelspec": {
   "display_name": "Python 3 (ipykernel)",
   "language": "python",
   "name": "python3"
  },
  "language_info": {
   "codemirror_mode": {
    "name": "ipython",
    "version": 3
   },
   "file_extension": ".py",
   "mimetype": "text/x-python",
   "name": "python",
   "nbconvert_exporter": "python",
   "pygments_lexer": "ipython3",
   "version": "3.11.11"
  }
 },
 "nbformat": 4,
 "nbformat_minor": 5
}
