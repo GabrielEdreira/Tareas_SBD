{
 "cells": [
  {
   "cell_type": "code",
   "execution_count": 5,
   "metadata": {},
   "outputs": [],
   "source": [
    "import time\n",
    "\n",
    "from selenium import webdriver\n",
    "from selenium.webdriver.common.by import By"
   ]
  },
  {
   "cell_type": "code",
   "execution_count": 6,
   "metadata": {},
   "outputs": [],
   "source": [
    "WEB_URL=\"https://eumostwanted.eu\""
   ]
  },
  {
   "cell_type": "code",
   "execution_count": 7,
   "metadata": {},
   "outputs": [],
   "source": [
    "driver = webdriver.Firefox()\n",
    "driver.get(WEB_URL)"
   ]
  },
  {
   "cell_type": "code",
   "execution_count": 8,
   "metadata": {},
   "outputs": [
    {
     "name": "stdout",
     "output_type": "stream",
     "text": [
      "Hay 47 elementos.\n",
      "Error:  FOCO, Tibor\n"
     ]
    }
   ],
   "source": [
    "wanted_items = list()\n",
    "aux_wanted_items = driver.find_elements(by=By.CLASS_NAME, value=\"wantedItem\")\n",
    "\n",
    "for item in aux_wanted_items:\n",
    "    aux = item.find_element(by=By.CLASS_NAME, value=\"content\").text\n",
    "    if (aux.startswith(\"Arrest\")):\n",
    "        continue\n",
    "\n",
    "    wanted_items.append(aux)\n",
    "\n",
    "print(\"Hay\",len(wanted_items), \"elementos.\")\n",
    "\n",
    "for item in wanted_items:\n",
    "    try:\n",
    "        item = item.replace(\"\\n\", \"\")\n",
    "        search_bar = driver.find_element(by=By.NAME, value=\"keys\")\n",
    "\n",
    "        search_bar.clear()\n",
    "        search_bar.send_keys(item)\n",
    "        search_bar.submit()\n",
    "\n",
    "        element = driver.find_element(By.XPATH, f\"//*a[contains(text(), '{item}')]\")\n",
    "        element.click()\n",
    "    except(Exception) as error:\n",
    "        print(\"Error: \", item)\n",
    "    time.sleep(2)\n",
    "    break\n",
    "\n",
    "driver.quit()"
   ]
  }
 ],
 "metadata": {
  "kernelspec": {
   "display_name": "bigdata",
   "language": "python",
   "name": "python3"
  },
  "language_info": {
   "codemirror_mode": {
    "name": "ipython",
    "version": 3
   },
   "file_extension": ".py",
   "mimetype": "text/x-python",
   "name": "python",
   "nbconvert_exporter": "python",
   "pygments_lexer": "ipython3",
   "version": "3.12.3"
  }
 },
 "nbformat": 4,
 "nbformat_minor": 2
}
