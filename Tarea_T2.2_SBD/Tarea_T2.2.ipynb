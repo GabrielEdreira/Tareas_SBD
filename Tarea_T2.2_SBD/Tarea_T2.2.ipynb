{
 "cells": [
  {
   "cell_type": "code",
   "execution_count": 59,
   "metadata": {},
   "outputs": [],
   "source": [
    "# Imports:\n",
    "import pandas as pd\n",
    "import glob, os"
   ]
  },
  {
   "cell_type": "code",
   "execution_count": 60,
   "metadata": {},
   "outputs": [],
   "source": [
    "def crearExcelCombinado():\n",
    "    carpeta = \"Datos/\" #Ruta a la carpeta con los xlsx\n",
    "    ruta_salida = \"Combinado.xlsx\" #Ruta de salida del archivo combinado\n",
    "\n",
    "    os.remove(ruta_salida) # Borrar archivo si ya existe\n",
    "    writer = pd.ExcelWriter(ruta_salida)\n",
    "\n",
    "    archivos_excel = glob.glob(f\"{carpeta}/*.xlsx\")\n",
    "\n",
    "    with pd.ExcelWriter(ruta_salida) as writer:\n",
    "        for archivo in archivos_excel:\n",
    "            df_aux = pd.read_excel(archivo, usecols=\"D:K\", skiprows=7)\n",
    "\n",
    "            sheet = f\"Alcaldes {archivo[-5 - 9:-5].replace('_', '-')}\" # Calculamos el nombre de la Hoja: \"Alcalde [AÑO_INICIO]-[AÑO_FIN]\"\n",
    "            df_aux.to_excel(writer, sheet_name=sheet, index=False)\n",
    "\n",
    "crearExcelCombinado()"
   ]
  },
  {
   "cell_type": "code",
   "execution_count": 61,
   "metadata": {},
   "outputs": [
    {
     "data": {
      "text/html": [
       "<div>\n",
       "<style scoped>\n",
       "    .dataframe tbody tr th:only-of-type {\n",
       "        vertical-align: middle;\n",
       "    }\n",
       "\n",
       "    .dataframe tbody tr th {\n",
       "        vertical-align: top;\n",
       "    }\n",
       "\n",
       "    .dataframe thead th {\n",
       "        text-align: right;\n",
       "    }\n",
       "</style>\n",
       "<table border=\"1\" class=\"dataframe\">\n",
       "  <thead>\n",
       "    <tr style=\"text-align: right;\">\n",
       "      <th></th>\n",
       "      <th>COMUNIDAD AUTÓNOMA</th>\n",
       "      <th>PROVINCIA</th>\n",
       "      <th>MUNICIPIO</th>\n",
       "      <th>CÓDIGO INE</th>\n",
       "      <th>NOMBRE</th>\n",
       "      <th>LISTA</th>\n",
       "      <th>FECHA POSESIÓN</th>\n",
       "      <th>FECHA BAJA</th>\n",
       "    </tr>\n",
       "  </thead>\n",
       "  <tbody>\n",
       "    <tr>\n",
       "      <th>0</th>\n",
       "      <td>Andalucía</td>\n",
       "      <td>Almería</td>\n",
       "      <td>ABLA</td>\n",
       "      <td>040010</td>\n",
       "      <td>HERRERIAS HERRERIAS, ANTONIO</td>\n",
       "      <td>UCD</td>\n",
       "      <td>1979-04-19 00:00:00</td>\n",
       "      <td>NaT</td>\n",
       "    </tr>\n",
       "    <tr>\n",
       "      <th>1</th>\n",
       "      <td>Andalucía</td>\n",
       "      <td>Almería</td>\n",
       "      <td>ABRUCENA</td>\n",
       "      <td>040025</td>\n",
       "      <td>MARTINEZ LAO, JUAN</td>\n",
       "      <td>PSOE</td>\n",
       "      <td>1979-04-19 00:00:00</td>\n",
       "      <td>NaT</td>\n",
       "    </tr>\n",
       "    <tr>\n",
       "      <th>2</th>\n",
       "      <td>Andalucía</td>\n",
       "      <td>Almería</td>\n",
       "      <td>ADRA</td>\n",
       "      <td>040031</td>\n",
       "      <td>SARMIENTO POSADA, PEDRO</td>\n",
       "      <td>OTROS</td>\n",
       "      <td>1979-04-19 00:00:00</td>\n",
       "      <td>NaT</td>\n",
       "    </tr>\n",
       "    <tr>\n",
       "      <th>3</th>\n",
       "      <td>Andalucía</td>\n",
       "      <td>Almería</td>\n",
       "      <td>ALBANCHEZ</td>\n",
       "      <td>040046</td>\n",
       "      <td>MARTOS AYBAR, RAMON</td>\n",
       "      <td>UCD</td>\n",
       "      <td>1979-04-19 00:00:00</td>\n",
       "      <td>NaT</td>\n",
       "    </tr>\n",
       "    <tr>\n",
       "      <th>4</th>\n",
       "      <td>Andalucía</td>\n",
       "      <td>Almería</td>\n",
       "      <td>ALBOLODUY</td>\n",
       "      <td>040059</td>\n",
       "      <td>BLANES PANIAGUA, MARIANO</td>\n",
       "      <td>UCD</td>\n",
       "      <td>1979-04-19 00:00:00</td>\n",
       "      <td>NaT</td>\n",
       "    </tr>\n",
       "    <tr>\n",
       "      <th>...</th>\n",
       "      <td>...</td>\n",
       "      <td>...</td>\n",
       "      <td>...</td>\n",
       "      <td>...</td>\n",
       "      <td>...</td>\n",
       "      <td>...</td>\n",
       "      <td>...</td>\n",
       "      <td>...</td>\n",
       "    </tr>\n",
       "    <tr>\n",
       "      <th>89995</th>\n",
       "      <td>Castilla y León</td>\n",
       "      <td>Salamanca</td>\n",
       "      <td>Montejo</td>\n",
       "      <td>372007</td>\n",
       "      <td>ISIDRO HERRAEZ SAAVEDRA</td>\n",
       "      <td>PP</td>\n",
       "      <td>2021-05-28 00:00:00</td>\n",
       "      <td>NaN</td>\n",
       "    </tr>\n",
       "    <tr>\n",
       "      <th>89996</th>\n",
       "      <td>Castilla y León</td>\n",
       "      <td>Salamanca</td>\n",
       "      <td>Montemayor del Río</td>\n",
       "      <td>372014</td>\n",
       "      <td>JOSE ANTONIO JIMENEZ BARRAGAN</td>\n",
       "      <td>PP</td>\n",
       "      <td>15/06/2019</td>\n",
       "      <td>2022-06-23 00:00:00</td>\n",
       "    </tr>\n",
       "    <tr>\n",
       "      <th>89997</th>\n",
       "      <td>Castilla y León</td>\n",
       "      <td>Salamanca</td>\n",
       "      <td>Montemayor del Río</td>\n",
       "      <td>372014</td>\n",
       "      <td>DAVID LUENGO PARRA</td>\n",
       "      <td>PP</td>\n",
       "      <td>2022-06-23 00:00:00</td>\n",
       "      <td>NaN</td>\n",
       "    </tr>\n",
       "    <tr>\n",
       "      <th>89998</th>\n",
       "      <td>Castilla y León</td>\n",
       "      <td>Salamanca</td>\n",
       "      <td>Monterrubio de Armuña</td>\n",
       "      <td>372029</td>\n",
       "      <td>DAVID MATUTE PEREZ</td>\n",
       "      <td>PSOE</td>\n",
       "      <td>15/06/2019</td>\n",
       "      <td>NaN</td>\n",
       "    </tr>\n",
       "    <tr>\n",
       "      <th>89999</th>\n",
       "      <td>Castilla y León</td>\n",
       "      <td>Salamanca</td>\n",
       "      <td>Monterrubio de la Sierra</td>\n",
       "      <td>372035</td>\n",
       "      <td>AGUSTIN MARTIN SANCHEZ</td>\n",
       "      <td>PSOE</td>\n",
       "      <td>15/06/2019</td>\n",
       "      <td>NaN</td>\n",
       "    </tr>\n",
       "  </tbody>\n",
       "</table>\n",
       "<p>90000 rows × 8 columns</p>\n",
       "</div>"
      ],
      "text/plain": [
       "      COMUNIDAD AUTÓNOMA  PROVINCIA                 MUNICIPIO CÓDIGO INE  \\\n",
       "0              Andalucía    Almería                      ABLA     040010   \n",
       "1              Andalucía    Almería                  ABRUCENA     040025   \n",
       "2              Andalucía    Almería                      ADRA     040031   \n",
       "3              Andalucía    Almería                 ALBANCHEZ     040046   \n",
       "4              Andalucía    Almería                 ALBOLODUY     040059   \n",
       "...                  ...        ...                       ...        ...   \n",
       "89995    Castilla y León  Salamanca                   Montejo     372007   \n",
       "89996    Castilla y León  Salamanca        Montemayor del Río     372014   \n",
       "89997    Castilla y León  Salamanca        Montemayor del Río     372014   \n",
       "89998    Castilla y León  Salamanca     Monterrubio de Armuña     372029   \n",
       "89999    Castilla y León  Salamanca  Monterrubio de la Sierra     372035   \n",
       "\n",
       "                              NOMBRE  LISTA       FECHA POSESIÓN  \\\n",
       "0       HERRERIAS HERRERIAS, ANTONIO    UCD  1979-04-19 00:00:00   \n",
       "1                 MARTINEZ LAO, JUAN   PSOE  1979-04-19 00:00:00   \n",
       "2            SARMIENTO POSADA, PEDRO  OTROS  1979-04-19 00:00:00   \n",
       "3                MARTOS AYBAR, RAMON    UCD  1979-04-19 00:00:00   \n",
       "4           BLANES PANIAGUA, MARIANO    UCD  1979-04-19 00:00:00   \n",
       "...                              ...    ...                  ...   \n",
       "89995        ISIDRO HERRAEZ SAAVEDRA     PP  2021-05-28 00:00:00   \n",
       "89996  JOSE ANTONIO JIMENEZ BARRAGAN     PP           15/06/2019   \n",
       "89997             DAVID LUENGO PARRA     PP  2022-06-23 00:00:00   \n",
       "89998             DAVID MATUTE PEREZ   PSOE           15/06/2019   \n",
       "89999         AGUSTIN MARTIN SANCHEZ   PSOE           15/06/2019   \n",
       "\n",
       "                FECHA BAJA  \n",
       "0                      NaT  \n",
       "1                      NaT  \n",
       "2                      NaT  \n",
       "3                      NaT  \n",
       "4                      NaT  \n",
       "...                    ...  \n",
       "89995                  NaN  \n",
       "89996  2022-06-23 00:00:00  \n",
       "89997                  NaN  \n",
       "89998                  NaN  \n",
       "89999                  NaN  \n",
       "\n",
       "[90000 rows x 8 columns]"
      ]
     },
     "execution_count": 61,
     "metadata": {},
     "output_type": "execute_result"
    }
   ],
   "source": [
    "def leerExcelCombinado():\n",
    "    ruta = \"Combinado.xlsx\"\n",
    "\n",
    "    df = pd.read_excel(ruta, sheet_name=None)\n",
    "\n",
    "    return pd.concat(df.values(), ignore_index=True)\n",
    "\n",
    "df = leerExcelCombinado()\n",
    "df.head(90000)"
   ]
  },
  {
   "cell_type": "markdown",
   "metadata": {},
   "source": [
    "# PREGUNTAS:"
   ]
  },
  {
   "cell_type": "markdown",
   "metadata": {},
   "source": [
    "\n",
    "### 1.- Saber qué alcaldes repetiron mandato e en qué lexislaturas (ollo, poden mudar un pouco os nomes)."
   ]
  },
  {
   "cell_type": "code",
   "execution_count": 62,
   "metadata": {},
   "outputs": [],
   "source": [
    "df = leerExcelCombinado()"
   ]
  },
  {
   "cell_type": "code",
   "execution_count": 63,
   "metadata": {},
   "outputs": [
    {
     "name": "stdout",
     "output_type": "stream",
     "text": [
      "NOMBRE\n",
      "*                                  [1995-06-17 00:00:00, 1995-06-17 00:00:00, 199...\n",
      "ABAD BECQUER, FERNANDO                    [1983-05-23 00:00:00, 1987-06-30 00:00:00]\n",
      "ABAD BENEDICTO, ENRIQUE            [1987-06-30 00:00:00, 1991-06-15 00:00:00, 199...\n",
      "ABAD CABALLERO, JOSE                      [1983-05-23 00:00:00, 1987-06-30 00:00:00]\n",
      "ABAD GARCIA, ANTONIO               [1991-06-15 00:00:00, 1995-06-17 00:00:00, 199...\n",
      "                                                         ...                        \n",
      "Ángel Marcelo Sánchez Sacristán                    [2015-06-13 00:00:00, 15/06/2019]\n",
      "ÒSCAR NAVARRO TORRES                               [2011-06-11 00:00:00, 15/06/2019]\n",
      "ÓSCAR CEREZAL ORELLANA                    [2007-06-16 00:00:00, 2015-06-13 00:00:00]\n",
      "ÓSCAR DAVID GARCÍA GARCÍA                 [2003-06-14 00:00:00, 2007-06-16 00:00:00]\n",
      "Óscar Sanz García                                  [2015-06-13 00:00:00, 15/06/2019]\n",
      "Name: FECHA POSESIÓN, Length: 19441, dtype: object\n"
     ]
    }
   ],
   "source": [
    "pd.options.display.max_rows = 5000\n",
    "\n",
    "# Contar cuántas veces aparece cada alcalde\n",
    "alcaldes_repetidos = df.groupby('NOMBRE').size()\n",
    "\n",
    "# Filtrar solo aquellos que repitieron mandato (más de una vez)\n",
    "alcaldes_repetidos = alcaldes_repetidos[alcaldes_repetidos > 1]\n",
    "\n",
    "# Filtrar los alcaldes que repitieron mandato\n",
    "alcaldes_filtrados = df[df['NOMBRE'].isin(alcaldes_repetidos.index)]\n",
    "\n",
    "# Mostrar las legislaturas en las que repitieron mandato\n",
    "legislaturas_repetidas = alcaldes_filtrados.groupby('NOMBRE')['FECHA POSESIÓN'].apply(list)\n",
    "\n",
    "print(legislaturas_repetidas)\n"
   ]
  },
  {
   "cell_type": "markdown",
   "metadata": {},
   "source": [
    "### 2.- De repetir mandato. Qué partidos políticos tiveron máis éxito? Qué alcaldes mudaron de partido?"
   ]
  },
  {
   "cell_type": "code",
   "execution_count": 128,
   "metadata": {},
   "outputs": [
    {
     "ename": "AttributeError",
     "evalue": "'Series' object has no attribute 'columns'",
     "output_type": "error",
     "traceback": [
      "\u001b[1;31m---------------------------------------------------------------------------\u001b[0m",
      "\u001b[1;31mAttributeError\u001b[0m                            Traceback (most recent call last)",
      "\u001b[1;32m~\\AppData\\Local\\Temp\\ipykernel_5392\\1088982426.py\u001b[0m in \u001b[0;36m?\u001b[1;34m()\u001b[0m\n\u001b[1;32m----> 1\u001b[1;33m \u001b[0mdf\u001b[0m \u001b[1;33m=\u001b[0m \u001b[0mdf\u001b[0m\u001b[1;33m.\u001b[0m\u001b[0mgroupby\u001b[0m\u001b[1;33m(\u001b[0m\u001b[1;33m[\u001b[0m\u001b[1;34m\"LISTA\"\u001b[0m\u001b[1;33m,\u001b[0m \u001b[1;34m\"NOMBRE\"\u001b[0m\u001b[1;33m]\u001b[0m\u001b[1;33m)\u001b[0m\u001b[1;33m[\u001b[0m\u001b[1;34m\"LISTA\"\u001b[0m\u001b[1;33m,\u001b[0m \u001b[1;34m\"NOMBRE\"\u001b[0m\u001b[1;33m]\u001b[0m\u001b[1;33m.\u001b[0m\u001b[0mapply\u001b[0m\u001b[1;33m(\u001b[0m\u001b[0mlist\u001b[0m\u001b[1;33m)\u001b[0m\u001b[1;33m\u001b[0m\u001b[1;33m\u001b[0m\u001b[0m\n\u001b[0m\u001b[0;32m      2\u001b[0m \u001b[0mdf\u001b[0m\u001b[1;33m.\u001b[0m\u001b[0msort_values\u001b[0m\u001b[1;33m(\u001b[0m\u001b[1;33m)\u001b[0m\u001b[1;33m\u001b[0m\u001b[1;33m\u001b[0m\u001b[0m\n\u001b[0;32m      3\u001b[0m \u001b[0mprint\u001b[0m\u001b[1;33m(\u001b[0m\u001b[0mdf\u001b[0m\u001b[1;33m)\u001b[0m\u001b[1;33m\u001b[0m\u001b[1;33m\u001b[0m\u001b[0m\n",
      "\u001b[1;32mc:\\Users\\gabriel.antonio.edre\\AppData\\Local\\miniconda3\\envs\\bigdata\\Lib\\site-packages\\pandas\\core\\base.py\u001b[0m in \u001b[0;36m?\u001b[1;34m(self, key)\u001b[0m\n\u001b[0;32m    233\u001b[0m         \u001b[1;32mif\u001b[0m \u001b[0mself\u001b[0m\u001b[1;33m.\u001b[0m\u001b[0m_selection\u001b[0m \u001b[1;32mis\u001b[0m \u001b[1;32mnot\u001b[0m \u001b[1;32mNone\u001b[0m\u001b[1;33m:\u001b[0m\u001b[1;33m\u001b[0m\u001b[1;33m\u001b[0m\u001b[0m\n\u001b[0;32m    234\u001b[0m             \u001b[1;32mraise\u001b[0m \u001b[0mIndexError\u001b[0m\u001b[1;33m(\u001b[0m\u001b[1;33mf\"\u001b[0m\u001b[1;33mColumn(s) \u001b[0m\u001b[1;33m{\u001b[0m\u001b[0mself\u001b[0m\u001b[1;33m.\u001b[0m\u001b[0m_selection\u001b[0m\u001b[1;33m}\u001b[0m\u001b[1;33m already selected\u001b[0m\u001b[1;33m\"\u001b[0m\u001b[1;33m)\u001b[0m\u001b[1;33m\u001b[0m\u001b[1;33m\u001b[0m\u001b[0m\n\u001b[0;32m    235\u001b[0m \u001b[1;33m\u001b[0m\u001b[0m\n\u001b[0;32m    236\u001b[0m         \u001b[1;32mif\u001b[0m \u001b[0misinstance\u001b[0m\u001b[1;33m(\u001b[0m\u001b[0mkey\u001b[0m\u001b[1;33m,\u001b[0m \u001b[1;33m(\u001b[0m\u001b[0mlist\u001b[0m\u001b[1;33m,\u001b[0m \u001b[0mtuple\u001b[0m\u001b[1;33m,\u001b[0m \u001b[0mABCSeries\u001b[0m\u001b[1;33m,\u001b[0m \u001b[0mABCIndex\u001b[0m\u001b[1;33m,\u001b[0m \u001b[0mnp\u001b[0m\u001b[1;33m.\u001b[0m\u001b[0mndarray\u001b[0m\u001b[1;33m)\u001b[0m\u001b[1;33m)\u001b[0m\u001b[1;33m:\u001b[0m\u001b[1;33m\u001b[0m\u001b[1;33m\u001b[0m\u001b[0m\n\u001b[1;32m--> 237\u001b[1;33m             \u001b[1;32mif\u001b[0m \u001b[0mlen\u001b[0m\u001b[1;33m(\u001b[0m\u001b[0mself\u001b[0m\u001b[1;33m.\u001b[0m\u001b[0mobj\u001b[0m\u001b[1;33m.\u001b[0m\u001b[0mcolumns\u001b[0m\u001b[1;33m.\u001b[0m\u001b[0mintersection\u001b[0m\u001b[1;33m(\u001b[0m\u001b[0mkey\u001b[0m\u001b[1;33m)\u001b[0m\u001b[1;33m)\u001b[0m \u001b[1;33m!=\u001b[0m \u001b[0mlen\u001b[0m\u001b[1;33m(\u001b[0m\u001b[0mset\u001b[0m\u001b[1;33m(\u001b[0m\u001b[0mkey\u001b[0m\u001b[1;33m)\u001b[0m\u001b[1;33m)\u001b[0m\u001b[1;33m:\u001b[0m\u001b[1;33m\u001b[0m\u001b[1;33m\u001b[0m\u001b[0m\n\u001b[0m\u001b[0;32m    238\u001b[0m                 \u001b[0mbad_keys\u001b[0m \u001b[1;33m=\u001b[0m \u001b[0mlist\u001b[0m\u001b[1;33m(\u001b[0m\u001b[0mset\u001b[0m\u001b[1;33m(\u001b[0m\u001b[0mkey\u001b[0m\u001b[1;33m)\u001b[0m\u001b[1;33m.\u001b[0m\u001b[0mdifference\u001b[0m\u001b[1;33m(\u001b[0m\u001b[0mself\u001b[0m\u001b[1;33m.\u001b[0m\u001b[0mobj\u001b[0m\u001b[1;33m.\u001b[0m\u001b[0mcolumns\u001b[0m\u001b[1;33m)\u001b[0m\u001b[1;33m)\u001b[0m\u001b[1;33m\u001b[0m\u001b[1;33m\u001b[0m\u001b[0m\n\u001b[0;32m    239\u001b[0m                 \u001b[1;32mraise\u001b[0m \u001b[0mKeyError\u001b[0m\u001b[1;33m(\u001b[0m\u001b[1;33mf\"\u001b[0m\u001b[1;33mColumns not found: \u001b[0m\u001b[1;33m{\u001b[0m\u001b[0mstr\u001b[0m\u001b[1;33m(\u001b[0m\u001b[0mbad_keys\u001b[0m\u001b[1;33m)\u001b[0m\u001b[1;33m[\u001b[0m\u001b[1;36m1\u001b[0m\u001b[1;33m:\u001b[0m\u001b[1;33m-\u001b[0m\u001b[1;36m1\u001b[0m\u001b[1;33m]\u001b[0m\u001b[1;33m}\u001b[0m\u001b[1;33m\"\u001b[0m\u001b[1;33m)\u001b[0m\u001b[1;33m\u001b[0m\u001b[1;33m\u001b[0m\u001b[0m\n\u001b[0;32m    240\u001b[0m             \u001b[1;32mreturn\u001b[0m \u001b[0mself\u001b[0m\u001b[1;33m.\u001b[0m\u001b[0m_gotitem\u001b[0m\u001b[1;33m(\u001b[0m\u001b[0mlist\u001b[0m\u001b[1;33m(\u001b[0m\u001b[0mkey\u001b[0m\u001b[1;33m)\u001b[0m\u001b[1;33m,\u001b[0m \u001b[0mndim\u001b[0m\u001b[1;33m=\u001b[0m\u001b[1;36m2\u001b[0m\u001b[1;33m)\u001b[0m\u001b[1;33m\u001b[0m\u001b[1;33m\u001b[0m\u001b[0m\n",
      "\u001b[1;32mc:\\Users\\gabriel.antonio.edre\\AppData\\Local\\miniconda3\\envs\\bigdata\\Lib\\site-packages\\pandas\\core\\generic.py\u001b[0m in \u001b[0;36m?\u001b[1;34m(self, name)\u001b[0m\n\u001b[0;32m   6295\u001b[0m             \u001b[1;32mand\u001b[0m \u001b[0mname\u001b[0m \u001b[1;32mnot\u001b[0m \u001b[1;32min\u001b[0m \u001b[0mself\u001b[0m\u001b[1;33m.\u001b[0m\u001b[0m_accessors\u001b[0m\u001b[1;33m\u001b[0m\u001b[1;33m\u001b[0m\u001b[0m\n\u001b[0;32m   6296\u001b[0m             \u001b[1;32mand\u001b[0m \u001b[0mself\u001b[0m\u001b[1;33m.\u001b[0m\u001b[0m_info_axis\u001b[0m\u001b[1;33m.\u001b[0m\u001b[0m_can_hold_identifiers_and_holds_name\u001b[0m\u001b[1;33m(\u001b[0m\u001b[0mname\u001b[0m\u001b[1;33m)\u001b[0m\u001b[1;33m\u001b[0m\u001b[1;33m\u001b[0m\u001b[0m\n\u001b[0;32m   6297\u001b[0m         \u001b[1;33m)\u001b[0m\u001b[1;33m:\u001b[0m\u001b[1;33m\u001b[0m\u001b[1;33m\u001b[0m\u001b[0m\n\u001b[0;32m   6298\u001b[0m             \u001b[1;32mreturn\u001b[0m \u001b[0mself\u001b[0m\u001b[1;33m[\u001b[0m\u001b[0mname\u001b[0m\u001b[1;33m]\u001b[0m\u001b[1;33m\u001b[0m\u001b[1;33m\u001b[0m\u001b[0m\n\u001b[1;32m-> 6299\u001b[1;33m         \u001b[1;32mreturn\u001b[0m \u001b[0mobject\u001b[0m\u001b[1;33m.\u001b[0m\u001b[0m__getattribute__\u001b[0m\u001b[1;33m(\u001b[0m\u001b[0mself\u001b[0m\u001b[1;33m,\u001b[0m \u001b[0mname\u001b[0m\u001b[1;33m)\u001b[0m\u001b[1;33m\u001b[0m\u001b[1;33m\u001b[0m\u001b[0m\n\u001b[0m",
      "\u001b[1;31mAttributeError\u001b[0m: 'Series' object has no attribute 'columns'"
     ]
    }
   ],
   "source": [
    "df = df.groupby([\"LISTA\", \"NOMBRE\"]).apply(list)\n",
    "df.sort_values()\n",
    "print(df)"
   ]
  },
  {
   "cell_type": "markdown",
   "metadata": {},
   "source": [
    "### 3.- Cantos alcaldes cesaron antes de tempo? "
   ]
  },
  {
   "cell_type": "code",
   "execution_count": null,
   "metadata": {},
   "outputs": [],
   "source": []
  },
  {
   "cell_type": "markdown",
   "metadata": {},
   "source": [
    "### 4.- Cal é o soldo máis alto e de que alcaldes?"
   ]
  },
  {
   "cell_type": "code",
   "execution_count": null,
   "metadata": {},
   "outputs": [],
   "source": []
  },
  {
   "cell_type": "markdown",
   "metadata": {},
   "source": [
    "### 5.- Relaciona os soldos altos e baixos coa \"probabilidade\" de repetir mandato."
   ]
  },
  {
   "cell_type": "code",
   "execution_count": null,
   "metadata": {},
   "outputs": [],
   "source": []
  },
  {
   "cell_type": "markdown",
   "metadata": {},
   "source": [
    "### 6.- Outra información interesante."
   ]
  },
  {
   "cell_type": "code",
   "execution_count": null,
   "metadata": {},
   "outputs": [],
   "source": []
  }
 ],
 "metadata": {
  "kernelspec": {
   "display_name": "bigdata",
   "language": "python",
   "name": "python3"
  },
  "language_info": {
   "codemirror_mode": {
    "name": "ipython",
    "version": 3
   },
   "file_extension": ".py",
   "mimetype": "text/x-python",
   "name": "python",
   "nbconvert_exporter": "python",
   "pygments_lexer": "ipython3",
   "version": "3.12.3"
  }
 },
 "nbformat": 4,
 "nbformat_minor": 2
}
