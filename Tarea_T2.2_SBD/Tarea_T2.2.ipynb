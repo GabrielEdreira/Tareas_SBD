{
 "cells": [
  {
   "cell_type": "code",
   "execution_count": 11,
   "metadata": {},
   "outputs": [],
   "source": [
    "# Imports:\n",
    "import pandas as pd\n",
    "import glob, os"
   ]
  },
  {
   "cell_type": "code",
   "execution_count": 12,
   "metadata": {},
   "outputs": [],
   "source": [
    "def crearExcelCombinado():\n",
    "    carpeta = \"Datos/\" #Ruta a la carpeta con los xlsx\n",
    "    ruta_salida = \"Combinado.xlsx\" #Ruta de salida del archivo combinado\n",
    "\n",
    "    os.remove(ruta_salida) # Borrar archivo si ya existe\n",
    "    writer = pd.ExcelWriter(ruta_salida)\n",
    "\n",
    "    archivos_excel = glob.glob(f\"{carpeta}/*.xlsx\")\n",
    "\n",
    "    with pd.ExcelWriter(ruta_salida) as writer:\n",
    "        for archivo in archivos_excel:\n",
    "            df_aux = pd.read_excel(archivo, usecols=\"D:K\", skiprows=7)\n",
    "\n",
    "            sheet = f\"Alcaldes {archivo[-5 - 9:-5].replace('_', '-')}\" # Calculamos el nombre de la Hoja: \"Alcalde [AÑO_INICIO]-[AÑO_FIN]\"\n",
    "            df_aux.to_excel(writer, sheet_name=sheet, index=False)\n",
    "\n",
    "crearExcelCombinado()"
   ]
  },
  {
   "cell_type": "code",
   "execution_count": 13,
   "metadata": {},
   "outputs": [
    {
     "name": "stdout",
     "output_type": "stream",
     "text": [
      "      COMUNIDAD AUTÓNOMA  PROVINCIA           MUNICIPIO CÓDIGO INE  \\\n",
      "0              Andalucía    Almería                ABLA     040010   \n",
      "1              Andalucía    Almería            ABRUCENA     040025   \n",
      "2              Andalucía    Almería                ADRA     040031   \n",
      "3              Andalucía    Almería           ALBANCHEZ     040046   \n",
      "4              Andalucía    Almería           ALBOLODUY     040059   \n",
      "...                  ...        ...                 ...        ...   \n",
      "95479          Rioja, La  Rioja, La   Viniegra de Abajo     261780   \n",
      "95480          Rioja, La  Rioja, La  Viniegra de Arriba     261793   \n",
      "95481          Rioja, La  Rioja, La            Zarratón     261807   \n",
      "95482          Rioja, La  Rioja, La             Zarzosa     261814   \n",
      "95483          Rioja, La  Rioja, La           Zorraquín     261835   \n",
      "\n",
      "                                NOMBRE  LISTA       FECHA POSESIÓN FECHA BAJA  \n",
      "0         HERRERIAS HERRERIAS, ANTONIO    UCD  1979-04-19 00:00:00        NaT  \n",
      "1                   MARTINEZ LAO, JUAN   PSOE  1979-04-19 00:00:00        NaT  \n",
      "2              SARMIENTO POSADA, PEDRO  OTROS  1979-04-19 00:00:00        NaT  \n",
      "3                  MARTOS AYBAR, RAMON    UCD  1979-04-19 00:00:00        NaT  \n",
      "4             BLANES PANIAGUA, MARIANO    UCD  1979-04-19 00:00:00        NaT  \n",
      "...                                ...    ...                  ...        ...  \n",
      "95479  Juan Ignacio Martínez Fernández     PP           15/06/2019        NaN  \n",
      "95480              Laura Crespi Lázaro     PP           15/06/2019        NaN  \n",
      "95481         Víctor Manuel Manso Ocio   PSOE           15/06/2019        NaN  \n",
      "95482          José María Sáenz Blanco     PP           15/06/2019        NaN  \n",
      "95483        José Ángel Capellán Marín     PP           15/06/2019        NaN  \n",
      "\n",
      "[95484 rows x 8 columns]\n"
     ]
    }
   ],
   "source": [
    "def leerExcelCombinado():\n",
    "    ruta = \"Combinado.xlsx\"\n",
    "\n",
    "    df = pd.read_excel(ruta, sheet_name=None)\n",
    "\n",
    "    return pd.concat(df.values(), ignore_index=True)\n",
    "\n",
    "df = leerExcelCombinado()\n",
    "df.head(1000)"
   ]
  }
 ],
 "metadata": {
  "kernelspec": {
   "display_name": "bigdata",
   "language": "python",
   "name": "python3"
  },
  "language_info": {
   "codemirror_mode": {
    "name": "ipython",
    "version": 3
   },
   "file_extension": ".py",
   "mimetype": "text/x-python",
   "name": "python",
   "nbconvert_exporter": "python",
   "pygments_lexer": "ipython3",
   "version": "3.12.3"
  }
 },
 "nbformat": 4,
 "nbformat_minor": 2
}
