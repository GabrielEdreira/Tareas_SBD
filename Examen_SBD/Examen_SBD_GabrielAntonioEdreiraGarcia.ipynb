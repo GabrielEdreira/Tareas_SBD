{
 "cells": [
  {
   "cell_type": "markdown",
   "metadata": {},
   "source": [
    "## Punto 1"
   ]
  },
  {
   "cell_type": "markdown",
   "metadata": {},
   "source": [
    "<p>Creamos un entorno de conda que se llame \"cargoalto\" con en comando \"conda create -n cargoalto python=\"3.12\"\"<p>\n",
    "<p>Activamos el entorno con \"conda activate cargoalto\"<p>\n",
    "<p>Instalamos jupyter para poder usar el entorno en el Jupyter Notebook<p>"
   ]
  },
  {
   "cell_type": "code",
   "execution_count": 160,
   "metadata": {},
   "outputs": [],
   "source": [
    "# %conda install ipykernel\n",
    "# %conda install request\n",
    "# %conda install pandas\n",
    "# %conda install selenium\n",
    "# %conda install webdriver"
   ]
  },
  {
   "cell_type": "code",
   "execution_count": 161,
   "metadata": {},
   "outputs": [],
   "source": [
    "import time\n",
    "\n",
    "from selenium import webdriver\n",
    "from selenium.webdriver.common.by import By"
   ]
  },
  {
   "cell_type": "code",
   "execution_count": 162,
   "metadata": {},
   "outputs": [],
   "source": [
    "# URL a la que accederemos\n",
    "WEB_URL = \"https://transparencia.xunta.gal/tema/transparencia-institucional/goberno-e-altos-cargos/administracion-xeral\"\n",
    "\n",
    "# Inicializamos el dirver de Chrome\n",
    "driver = webdriver.Firefox()\n",
    "driver.get(WEB_URL)"
   ]
  },
  {
   "cell_type": "code",
   "execution_count": 163,
   "metadata": {},
   "outputs": [],
   "source": [
    "# Denegamos las cookies\n",
    "driver.find_element(By.CLASS_NAME, \"cn-decline\").click()\n",
    "time.sleep(0.5)"
   ]
  },
  {
   "cell_type": "code",
   "execution_count": 164,
   "metadata": {},
   "outputs": [],
   "source": [
    "# Obtenemos la base de todas las listas\n",
    "base = driver.find_element(By.ID, \"audioContido\")\n",
    "\n",
    "listados = base.find_elements(By.CLASS_NAME, \"contedor__listado\") # Trabajadores\n",
    "nombres = list()\n",
    "for i in base.find_elements(By.CLASS_NAME, \"texto-tam-md\"): nombres.append(i.text) # Nombres de los puestos de Trabajo\n",
    "\n",
    "i = 0\n",
    "result = list()\n",
    "for dato in listados:\n",
    "    nombre_altoCargo = \"\"\n",
    "    # Iteramos sobre los nombres encontrados, exiten valores nulos que podemos evitar\n",
    "    while ((nombre_altoCargo == \"\" or nombre_altoCargo == None) and i != len(nombres)):\n",
    "        nombre_altoCargo = nombres[i]\n",
    "        i+=1\n",
    "    \n",
    "    if (i != len(nombres)):\n",
    "        altosCargos = dato.find_elements(By.TAG_NAME, \"li\")\n",
    "\n",
    "        aux_altosCargos = dict()\n",
    "        \n",
    "        aux_altosCargos[\"Trabajo\"] = nombre_altoCargo\n",
    "        aux_altosCargos[\"Trabajadores\"] = list()\n",
    "\n",
    "        for altoCargo in altosCargos:\n",
    "            try:\n",
    "                nombre_puesto = altoCargo.find_element(By.CLASS_NAME, \"contedor__titulo\").text\n",
    "                link = altoCargo.find_element(By.TAG_NAME, \"a\")\n",
    "                \n",
    "                datos  = dict()\n",
    "                trabajador = dict()\n",
    "                trabajador[\"Nombre\"] = nombre_puesto\n",
    "\n",
    "                # Viajamos a los datos de la persona\n",
    "                # link.click()\n",
    "                # time.sleep(3)\n",
    "                # driver.get(driver.execute_script(\"return window.location.href;\"))\n",
    "\n",
    "                # negrita = driver.find_elements(By.TAG_NAME, \"strong\")\n",
    "                # for datos_personales_titulo in negrita:\n",
    "                #     if (datos_personales_titulo.text == \"Retribución anual:\"):\n",
    "                #         Esto llega\n",
    "                #         pass\n",
    "\n",
    "                # time.sleep(1)\n",
    "\n",
    "                # menu_lateral = driver.find_element(By.CLASS_NAME, \"contedor__env__contido__menulateral\")\n",
    "                # links = menu_lateral.find_elements(By.CLASS_NAME, \"contedor__ligazon__menulateral\")\n",
    "                # for link in links:\n",
    "                #     if (link.text == \"Altos cargos da Administración xeral\"):\n",
    "                #         link.click()\n",
    "\n",
    "                trabajador[\"Datos\"] = \"\"\n",
    "\n",
    "                aux_altosCargos[\"Trabajadores\"].append(trabajador)\n",
    "            except:\n",
    "                pass\n",
    "\n",
    "        result.append(aux_altosCargos)\n",
    "\n",
    "import json\n",
    "json = json.dumps(result, indent = 4)\n",
    "with open(\"result.json\", \"w\") as file:\n",
    "    file.write(json)\n",
    "\n",
    "driver.quit()"
   ]
  }
 ],
 "metadata": {
  "kernelspec": {
   "display_name": "cargoalto",
   "language": "python",
   "name": "python3"
  },
  "language_info": {
   "codemirror_mode": {
    "name": "ipython",
    "version": 3
   },
   "file_extension": ".py",
   "mimetype": "text/x-python",
   "name": "python",
   "nbconvert_exporter": "python",
   "pygments_lexer": "ipython3",
   "version": "3.13.2"
  }
 },
 "nbformat": 4,
 "nbformat_minor": 2
}
